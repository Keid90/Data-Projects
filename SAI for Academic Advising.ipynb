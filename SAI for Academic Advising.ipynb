{
 "cells": [
  {
   "cell_type": "markdown",
   "id": "9700c011-ffbc-48dc-950e-99600818cf6d",
   "metadata": {},
   "source": [
    "#### <font color=\"orange\">Date: 16-Oct-2024</font>\n",
    "## <font color=\"white\">Student Administration Interface (SAI) Overview</font>\n",
    "### <font color=\"lime\">In this document we summarize the Functions needed for Academic Advisors on the SAI system.</font>\n",
    "<br><br>"
   ]
  },
  {
   "cell_type": "markdown",
   "id": "147e2f0c-7636-4263-b459-1622c3b77019",
   "metadata": {},
   "source": [
    "### <font color=\"white\"> 1- Individual Operations For Staff </font>\n",
    "\n",
    "#### <font color=\"lime\"> When you click on Individual Operations for Staff, you will be able to search a student record using the 'Student Number' </font>\n",
    "\n",
    "![Capture1](Box/KhaledEid/Training/SAI/Capture1.JPG)\n",
    "<br><br>"
   ]
  },
  {
   "cell_type": "markdown",
   "id": "7884b9f0-5e4f-458f-abac-07171a4e28f4",
   "metadata": {},
   "source": [
    "### 2- Search Student Number\n",
    "\n",
    "#### <font color=\"lime\"> Simply enter the student number in the search box and click search. </font>\n",
    "\n",
    "![Capture2](Box/KhaledEid/Training/SAI/Capture2.JPG)\n",
    "<br><br>"
   ]
  },
  {
   "cell_type": "markdown",
   "id": "815f4b45-634f-4a83-b156-97e881fb7952",
   "metadata": {},
   "source": [
    "### 3- Student Admin > Individual Operations For Staff > Enrolment Record\n",
    "\n",
    "#### <font color=\"lime\"> After looking up a student record using the student number, you can select \"Enrolment Record\" from the list displayed at the left side of the page to view the student's enrolment record, and you can as well click \"More ... (including Advanced Standing and Withdrawn Subjects)\" to also view the student's advanced standing. </font>\n",
    "\n",
    "![Capture3](Box/KhaledEid/Training/SAI/Capture3.JPG)\n",
    "<br><br>"
   ]
  },
  {
   "cell_type": "markdown",
   "id": "d42f4cb6-7290-4f1d-87fe-547264caa4af",
   "metadata": {},
   "source": [
    "### 4- Student Admin > Individual Operations For Staff > Grad: Completion Assmnt View\n",
    "\n",
    "#### <font color=\"lime\"> The Grad: Completion Assessment View provides a comprehensive overview of a student's progress in their course. </font>\n",
    "\n",
    "![Capture4](Box/KhaledEid/Training/SAI/Capture4.JPG)\n",
    "<br><br>"
   ]
  },
  {
   "cell_type": "markdown",
   "id": "36ed908c-a6a5-435b-83b0-d237b3e93388",
   "metadata": {},
   "source": [
    "### 5- Student Admin > Individual Operations For Staff > History Addition\n",
    "\n",
    "#### <font color=lime> A staff member can add a staff comment and choose whether the history should be displayed internally (to Staff Only) or (to Staff and Student). </font>\n",
    "\n",
    "![Capture5](Box/KhaledEid/Training/SAI/Capture5.JPG)\n",
    "<br><br>\n"
   ]
  },
  {
   "cell_type": "code",
   "execution_count": null,
   "id": "6f86b076-c577-4682-9a4f-3c2c76c960a9",
   "metadata": {},
   "outputs": [],
   "source": []
  }
 ],
 "metadata": {
  "kernelspec": {
   "display_name": "Python 3 (ipykernel)",
   "language": "python",
   "name": "python3"
  },
  "language_info": {
   "codemirror_mode": {
    "name": "ipython",
    "version": 3
   },
   "file_extension": ".py",
   "mimetype": "text/x-python",
   "name": "python",
   "nbconvert_exporter": "python",
   "pygments_lexer": "ipython3",
   "version": "3.12.7"
  }
 },
 "nbformat": 4,
 "nbformat_minor": 5
}
